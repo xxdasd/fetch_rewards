{
 "cells": [
  {
   "cell_type": "markdown",
   "metadata": {},
   "source": [
    "# Find Data Issues\n"
   ]
  },
  {
   "cell_type": "markdown",
   "metadata": {},
   "source": [
    "## First, load and process all the data"
   ]
  },
  {
   "cell_type": "code",
   "execution_count": 5,
   "metadata": {},
   "outputs": [],
   "source": [
    "def date(x):\n",
    "    if type(x) == float:\n",
    "        return 'null'\n",
    "    else:\n",
    "        return(pd.to_datetime(list(x.values())[0], unit='ms'))\n",
    "\n",
    "def date1(x):\n",
    "    if type(x) == float:\n",
    "        return 'null'\n",
    "    else:\n",
    "        return(x)\n",
    "\n",
    "def explode(df, col):\n",
    "    df[col] = df[col].apply(lambda x: [x] if not isinstance(x, list) else x)\n",
    "    return df.drop(col, axis=1).join(pd.DataFrame(list(df[col])).stack().reset_index(level=1, drop=True).rename(col)) \n",
    "\n",
    "def explode1(x, key):\n",
    "    if type(x) == dict and key in x.keys(): return x[key]\n",
    "\n",
    "def checkKey(dic, key):\n",
    "    if key in dic.keys():\n",
    "        return True\n",
    "    else:\n",
    "        return False\n",
    "\n",
    "import json    \n",
    "import pandas as pd\n",
    "import datetime\n",
    "\n",
    "receipt_data = pd.read_json(\"receipts.json\", lines=True)\n",
    "receipt_data['_id'] = receipt_data['_id'].apply(lambda x: list(x.values())[0])\n",
    "receipt_data['createDate'] = receipt_data['createDate'].apply(lambda x: date(x))\n",
    "receipt_data['dateScanned'] = receipt_data['dateScanned'].apply(lambda x: date(x))\n",
    "receipt_data['finishedDate'] = receipt_data['finishedDate'].apply(lambda x: date(x))\n",
    "receipt_data['modifyDate'] = receipt_data['finishedDate'].apply(lambda x: date1(x))\n",
    "receipt_data['pointsAwardedDate'] = receipt_data['finishedDate'].apply(lambda x: date1(x))\n",
    "receipt_data['purchaseDate'] = receipt_data['finishedDate'].apply(lambda x: date1(x))\n",
    "\n",
    "receipt_data = receipt_data.rename(columns={'_id':'Id'})\n",
    "receipt_tb = pd.DataFrame(receipt_data, columns=[\"Id\", \"bonusPointsEarned\", \"bonusPointsEarnedReason\", \"createDate\", \"dateScanned\", \"finishedDate\", \"modifyDate\", \"pointsAwardedDate\", \"pointsEarned\", \"purchaseDate\", \"purchasedItemCount\", \"rewardsReceiptStatus\", \"totalSpent\", \"userId\"])\n",
    "\n",
    "receipt_item_data = receipt_data[['rewardsReceiptItemList','Id']].copy()\n",
    "receipt_item_data = explode(receipt_item_data,\"rewardsReceiptItemList\")\n",
    "\n",
    "keys_ = ['barcode', 'description', 'finalPrice', 'itemPrice', 'needsFetchReview', 'partnerItemId', 'quanityPurchased']\n",
    "\n",
    "receipt_item_data1 = pd.DataFrame(columns=keys_)\n",
    "for i in range(len(keys_)):\n",
    "    this_column = receipt_item_data1.columns[i]\n",
    "    receipt_item_data1[this_column] = receipt_item_data['rewardsReceiptItemList'].apply(lambda x: explode1(x,this_column))\n",
    "\n",
    "receipt_item_data1 = pd.concat([receipt_item_data,receipt_item_data1],axis=1)\n",
    "receipt_item_data1 = pd.DataFrame(receipt_item_data1, columns=keys_)\n",
    "\n",
    "brand_data = pd.read_json(\"brands.json\", lines=True)\n",
    "brand_tb = pd.DataFrame(brand_data, columns=[\"barcode\", \"category\", \"categoryCode\", \"name\", \"topBrand\", \"brandCode\"])\n",
    "\n",
    "user_data = pd.read_json(\"users.json\", lines=True)\n",
    "user_data['_id'] = user_data['_id'].apply(lambda x: list(x.values())[0])\n",
    "user_data = user_data.rename(columns={'_id':'Id'})\n",
    "user_data['createdDate'] = user_data['createdDate'].apply(lambda x: date(x))\n",
    "user_data['lastLogin'] = user_data['lastLogin'].apply(lambda x: date(x))\n",
    "user_tb = pd.DataFrame(user_data, columns=[\"_id\", \"state\", \"createdDate\", \"lastLogin\", \"role\", \"active\", \"signUpSource\"])"
   ]
  },
  {
   "cell_type": "markdown",
   "metadata": {},
   "source": [
    "## Then, find the data issues"
   ]
  },
  {
   "cell_type": "markdown",
   "metadata": {},
   "source": [
    "### Issue 1: Data duplication\n",
    "Below I will give detailed data for explanation"
   ]
  },
  {
   "cell_type": "code",
   "execution_count": 7,
   "metadata": {},
   "outputs": [
    {
     "name": "stdout",
     "output_type": "stream",
     "text": [
      "Receipt duplication: False    1119\n",
      "Name: count, dtype: int64 \n",
      "\n",
      "Brand duplication: False    1167\n",
      "Name: count, dtype: int64 \n",
      "\n",
      "Receipt Item duplication: False    5939\n",
      "True     1442\n",
      "Name: count, dtype: int64 \n",
      "\n",
      "User duplication: True     283\n",
      "False    212\n",
      "Name: count, dtype: int64 \n",
      "\n"
     ]
    }
   ],
   "source": [
    "receipt_duplication_count = receipt_tb.duplicated().value_counts()\n",
    "brand_duplication_count = brand_tb.duplicated().value_counts()\n",
    "receipt_item_duplication_count = receipt_item_data1.duplicated().value_counts()\n",
    "user_duplication_count = user_tb.duplicated().value_counts()\n",
    "\n",
    "# print the duplication count info\n",
    "print('Receipt duplication:', receipt_duplication_count, '\\n')\n",
    "print('Brand duplication:', brand_duplication_count, '\\n')\n",
    "print('Receipt Item duplication:', receipt_item_duplication_count, '\\n')\n",
    "print('User duplication:', user_duplication_count, '\\n')"
   ]
  },
  {
   "cell_type": "markdown",
   "metadata": {},
   "source": [
    "From the above data, we can see that there are 1442 and 283 duplicate records in the receipt item and user tables respectively, accounting for a large proportion of the total number of records."
   ]
  },
  {
   "cell_type": "markdown",
   "metadata": {},
   "source": [
    "### Issue 2: Data missing\n",
    "Below I will give detailed data for explanation"
   ]
  },
  {
   "cell_type": "code",
   "execution_count": 8,
   "metadata": {},
   "outputs": [],
   "source": [
    "receipt_missing_count = receipt_tb.isnull().sum()\n",
    "brand_missing_count = brand_tb.isnull().sum()\n",
    "receipt_item_missing_count = receipt_item_data1.isnull().sum()\n",
    "user_missing_count = user_tb.isnull().sum()"
   ]
  },
  {
   "cell_type": "code",
   "execution_count": 9,
   "metadata": {},
   "outputs": [
    {
     "name": "stdout",
     "output_type": "stream",
     "text": [
      "Receipt null counts \n",
      " Id                           0\n",
      "bonusPointsEarned          575\n",
      "bonusPointsEarnedReason    575\n",
      "createDate                   0\n",
      "dateScanned                  0\n",
      "finishedDate                 0\n",
      "modifyDate                   0\n",
      "pointsAwardedDate            0\n",
      "pointsEarned               510\n",
      "purchaseDate                 0\n",
      "purchasedItemCount         484\n",
      "rewardsReceiptStatus         0\n",
      "totalSpent                 435\n",
      "userId                       0\n",
      "dtype: int64\n"
     ]
    }
   ],
   "source": [
    "print('Receipt null counts \\n', receipt_missing_count)"
   ]
  },
  {
   "cell_type": "markdown",
   "metadata": {},
   "source": [
    "purchasedItemCount and totalSpent are very important information, too much missing data will make the data meaningless."
   ]
  },
  {
   "cell_type": "code",
   "execution_count": 10,
   "metadata": {},
   "outputs": [
    {
     "name": "stdout",
     "output_type": "stream",
     "text": [
      "Brand null counts \n",
      " barcode           0\n",
      "category        155\n",
      "categoryCode    650\n",
      "name              0\n",
      "topBrand        612\n",
      "brandCode       234\n",
      "dtype: int64\n"
     ]
    }
   ],
   "source": [
    "print('Brand null counts \\n', brand_missing_count)"
   ]
  },
  {
   "cell_type": "markdown",
   "metadata": {},
   "source": [
    "Generally speaking, both category and brandCode are attributes that cannot be null."
   ]
  },
  {
   "cell_type": "code",
   "execution_count": 11,
   "metadata": {},
   "outputs": [
    {
     "name": "stdout",
     "output_type": "stream",
     "text": [
      "Receipt item null counts \n",
      " barcode             4291\n",
      "description          821\n",
      "finalPrice           614\n",
      "itemPrice            614\n",
      "needsFetchReview    6568\n",
      "partnerItemId        440\n",
      "quanityPurchased    7381\n",
      "dtype: int64\n"
     ]
    }
   ],
   "source": [
    "print('Receipt item null counts \\n', receipt_item_missing_count)"
   ]
  },
  {
   "cell_type": "markdown",
   "metadata": {},
   "source": [
    "Similarly, many necessary information of the item are confirmed."
   ]
  },
  {
   "cell_type": "code",
   "execution_count": 12,
   "metadata": {},
   "outputs": [
    {
     "name": "stdout",
     "output_type": "stream",
     "text": [
      "User null counts \n",
      " _id             495\n",
      "state            56\n",
      "createdDate       0\n",
      "lastLogin         0\n",
      "role              0\n",
      "active            0\n",
      "signUpSource     48\n",
      "dtype: int64\n"
     ]
    }
   ],
   "source": [
    "print('User null counts \\n', user_missing_count)"
   ]
  },
  {
   "cell_type": "markdown",
   "metadata": {},
   "source": [
    "User's information is basically complete, and the missing information is basically very little."
   ]
  }
 ],
 "metadata": {
  "interpreter": {
   "hash": "a06e30aee820ff8fe24fb428cece021c5cdfc4bd84062afc0eba853e87fef366"
  },
  "kernelspec": {
   "display_name": "Python 3.11.3 64-bit",
   "language": "python",
   "name": "python3"
  },
  "language_info": {
   "codemirror_mode": {
    "name": "ipython",
    "version": 3
   },
   "file_extension": ".py",
   "mimetype": "text/x-python",
   "name": "python",
   "nbconvert_exporter": "python",
   "pygments_lexer": "ipython3",
   "version": "3.11.3"
  },
  "orig_nbformat": 4
 },
 "nbformat": 4,
 "nbformat_minor": 2
}
